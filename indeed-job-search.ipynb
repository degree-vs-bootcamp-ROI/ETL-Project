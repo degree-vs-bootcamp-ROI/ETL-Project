{
 "cells": [
  {
   "cell_type": "code",
   "execution_count": 17,
   "metadata": {},
   "outputs": [],
   "source": [
    "from splinter import Browser\n",
    "from bs4 import BeautifulSoup"
   ]
  },
  {
   "cell_type": "markdown",
   "metadata": {},
   "source": [
    "# Mac Users"
   ]
  },
  {
   "cell_type": "code",
   "execution_count": 2,
   "metadata": {},
   "outputs": [
    {
     "name": "stdout",
     "output_type": "stream",
     "text": [
      "/usr/local/bin/chromedriver\r\n"
     ]
    }
   ],
   "source": [
    "# https://splinter.readthedocs.io/en/latest/drivers/chrome.html\n",
    "!which chromedriver"
   ]
  },
  {
   "cell_type": "code",
   "execution_count": 3,
   "metadata": {
    "collapsed": true
   },
   "outputs": [],
   "source": [
    "executable_path = {'executable_path': '/usr/local/bin/chromedriver'}\n",
    "browser = Browser('chrome', **executable_path, headless=False)"
   ]
  },
  {
   "cell_type": "markdown",
   "metadata": {},
   "source": [
    "# Windows Users"
   ]
  },
  {
   "cell_type": "code",
   "execution_count": 32,
   "metadata": {},
   "outputs": [],
   "source": [
    "executable_path = {'executable_path': 'chromedriver.exe'}\n",
    "browser = Browser('chrome', **executable_path, headless=False)"
   ]
  },
  {
   "cell_type": "code",
   "execution_count": 33,
   "metadata": {},
   "outputs": [],
   "source": [
    "url = 'https://www.indeed.com/jobs?q=data+science&l=New+York%2C+NY'\n",
    "browser.visit(url)"
   ]
  },
  {
   "cell_type": "code",
   "execution_count": 34,
   "metadata": {
    "scrolled": true
   },
   "outputs": [
    {
     "name": "stdout",
     "output_type": "stream",
     "text": [
      "No data provided\n",
      "No data provided\n",
      "No data provided\n",
      "No data provided\n"
     ]
    }
   ],
   "source": [
    "# initialize an empty job list\n",
    "job_title = []\n",
    "company = []\n",
    "locations = []\n",
    "compensation = []\n",
    "post_uptime = []\n",
    "\n",
    "\n",
    "for x in range(1, 5):\n",
    "    html = browser.html\n",
    "    soup = BeautifulSoup(html, 'html.parser')\n",
    "    data = soup.find_all('div', class_='jobsearch-SerpJobCard unifiedRow row result clickcard')\n",
    "    \n",
    "    \n",
    "    try:\n",
    "        for info in data:\n",
    "#             pagination = info.find(\"ul\", class_='pagination-list')\n",
    "#             anchor = pagination.find(\"a\")\n",
    "#             aria = anchor[['aria-label']=='Next']\n",
    "    #     browser.find_by_tag('')\n",
    "            \n",
    "            # finding job title\n",
    "            h2 = info.find(\"h2\")\n",
    "            link = h2.find('a')\n",
    "            title = link['title']\n",
    "        \n",
    "            # finding company\n",
    "            company = info.find('span').text\n",
    "        \n",
    "            # finding compensation\n",
    "#             div = info.find('div', class_ = \"salarySnippet holisticSalary\")\n",
    "#             span = div.find('span', class_=\"salaryText\").text\n",
    "\n",
    "#             finding location\n",
    "            location = info.find(\"div\", class_ = \"location accessible-contrast-color-location\").text\n",
    "        \n",
    "            print('page:', x, '-------------')\n",
    "            print(title)\n",
    "            print(company)\n",
    "#             print(span)\n",
    "            print(location)\n",
    "#             aria.click()\n",
    "            browser.click_link_by_partial_text('Next')\n",
    "\n",
    "        \n",
    "    except:\n",
    "        alert = browser.get_alert()\n",
    "#         alert.text\n",
    "#         alert.accept()\n",
    "#         alert.dismiss()\n",
    "        print(\"No data provided\")\n",
    "    \n",
    "        #append job_titles\n",
    "#         job_title.append(title.text)\n",
    "#         print(title.text)"
   ]
  },
  {
   "cell_type": "code",
   "execution_count": null,
   "metadata": {},
   "outputs": [],
   "source": []
  }
 ],
 "metadata": {
  "kernelspec": {
   "display_name": "Python 3",
   "language": "python",
   "name": "python3"
  },
  "language_info": {
   "codemirror_mode": {
    "name": "ipython",
    "version": 3
   },
   "file_extension": ".py",
   "mimetype": "text/x-python",
   "name": "python",
   "nbconvert_exporter": "python",
   "pygments_lexer": "ipython3",
   "version": "3.7.4"
  },
  "varInspector": {
   "cols": {
    "lenName": 16,
    "lenType": 16,
    "lenVar": 40
   },
   "kernels_config": {
    "python": {
     "delete_cmd_postfix": "",
     "delete_cmd_prefix": "del ",
     "library": "var_list.py",
     "varRefreshCmd": "print(var_dic_list())"
    },
    "r": {
     "delete_cmd_postfix": ") ",
     "delete_cmd_prefix": "rm(",
     "library": "var_list.r",
     "varRefreshCmd": "cat(var_dic_list()) "
    }
   },
   "types_to_exclude": [
    "module",
    "function",
    "builtin_function_or_method",
    "instance",
    "_Feature"
   ],
   "window_display": false
  }
 },
 "nbformat": 4,
 "nbformat_minor": 2
}
